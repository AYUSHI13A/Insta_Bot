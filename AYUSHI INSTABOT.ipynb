{
 "cells": [
  {
   "cell_type": "code",
   "execution_count": 1,
   "id": "a90df878",
   "metadata": {},
   "outputs": [],
   "source": [
    "from bs4 import BeautifulSoup\n",
    "from selenium import webdriver\n",
    "from selenium.webdriver.chrome.service import Service\n",
    "from selenium.webdriver.support.ui import WebDriverWait\n",
    "from selenium.webdriver.support import expected_conditions as EC\n",
    "from selenium.webdriver.common.by import By\n",
    "from selenium.webdriver.support.select import Select\n",
    "import time"
   ]
  },
  {
   "cell_type": "code",
   "execution_count": 2,
   "id": "0c230965",
   "metadata": {},
   "outputs": [],
   "source": [
    "service = Service(executable_path = \"search-ms:displayname=Search%20Results%20in%20Home&crumb=location:%3A%3A{F874310E-B6B7-47DC-BC84-B9E6B38F5903}\\chromedriver_win32\")\n",
    "driver = webdriver.Chrome(service = service)"
   ]
  },
  {
   "cell_type": "code",
   "execution_count": 3,
   "id": "c8a2cdff",
   "metadata": {},
   "outputs": [],
   "source": [
    "driver.get(\"https://www.instagram.com/\")"
   ]
  },
  {
   "cell_type": "code",
   "execution_count": 4,
   "id": "6d90ddf4",
   "metadata": {},
   "outputs": [],
   "source": [
    "driver.maximize_window()"
   ]
  },
  {
   "cell_type": "code",
   "execution_count": 5,
   "id": "44fcd712",
   "metadata": {},
   "outputs": [],
   "source": [
    "def login_insta( username , password) :\n",
    "    wait = WebDriverWait(driver , 5)\n",
    "    input_text = wait.until(EC.presence_of_all_elements_located((By.TAG_NAME , 'input')))\n",
    "    input_text\n",
    "\n",
    "    username_input = input_text[0]\n",
    "    password_input = input_text[1]\n",
    "    \n",
    "    username_input.send_keys(username)\n",
    "    password_input.send_keys(password)\n",
    "    password_input.submit()\n",
    "\n",
    "    try :\n",
    "        not_now = wait.until(EC.presence_of_all_elements_located(By.XPATH , '//Button[contains@class , \"_a9_0\"]'))\n",
    "        not_now.click()\n",
    "    except :\n",
    "        pass"
   ]
  },
  {
   "cell_type": "code",
   "execution_count": 6,
   "id": "4801c3b0",
   "metadata": {},
   "outputs": [],
   "source": [
    "username = 'aayu__13__07'\n",
    "password = 'Ayushi@13'"
   ]
  },
  {
   "cell_type": "code",
   "execution_count": 7,
   "id": "ca49ca47",
   "metadata": {},
   "outputs": [],
   "source": [
    "login_insta(username , password)"
   ]
  },
  {
   "cell_type": "markdown",
   "id": "d9974297",
   "metadata": {},
   "source": [
    "## Problem - 2 :"
   ]
  },
  {
   "cell_type": "code",
   "execution_count": 8,
   "id": "510af21d",
   "metadata": {},
   "outputs": [],
   "source": [
    "def search_and_get_handles(handle):\n",
    "    driver.get('https://www.instagram.com/')\n",
    "    \n",
    "    wait = WebDriverWait(driver , 5)\n",
    "    search_box = wait.until(EC.presence_of_element_located((By.PARTIAL_LINK_TEXT , 'Search')))\n",
    "    search_box.click()\n",
    "    time.sleep(2)\n",
    "    search_text = driver.find_element(By.TAG_NAME , 'input')\n",
    "    search_text.send_keys(handle)\n",
    "\n",
    "    search_all_insta_handles = wait.until(EC.presence_of_element_located((By.XPATH , '//div[starts-with(@class , \"x9f619 x78zum5 xdt5ytf x12dtdjy x6ikm8r x1odjw0f x4uap5 x18d9i69 xkhd6sd xh8yej3 x1iyjqo2 xocp1fn\")]')))\n",
    "    time.sleep(4)\n",
    "    HTML_doc = search_all_insta_handles.get_attribute('outerHTML')\n",
    "    search_result_list_html_object = BeautifulSoup( HTML_doc, 'html.parser')\n",
    "\n",
    "    all_profile_links = search_result_list_html_object.find_all('a')\n",
    "\n",
    "    get_names = profile_names_from_all_profiles(all_profile_links)\n",
    "    return get_names\n",
    "\n"
   ]
  },
  {
   "cell_type": "code",
   "execution_count": 9,
   "id": "e09e6164",
   "metadata": {},
   "outputs": [],
   "source": [
    "def profile_names_from_all_profiles(all_profile_links):\n",
    "    for i in range(len(all_profile_links)) :\n",
    "        profile_ = all_profile_links[i]\n",
    "        span_element = profile_.find(class_ = 'x193iq5w xeuugli x1fj9vlw x13faqbe x1vvkbs xt0psk2 x1i0vuye xvs91rp x1s688f x5n08af x10wh9bi x1wdrske x8viiok x18hxmgj')\n",
    "        all_profile_links[i] = span_element\n",
    "        if span_element :\n",
    "            all_profile_links[i] = span_element.get_text()\n",
    "    return all_profile_links\n"
   ]
  },
  {
   "cell_type": "code",
   "execution_count": 10,
   "id": "9311544b",
   "metadata": {},
   "outputs": [],
   "source": [
    "names = search_and_get_handles('food')\n"
   ]
  },
  {
   "cell_type": "code",
   "execution_count": 11,
   "id": "766e2ea5",
   "metadata": {},
   "outputs": [
    {
     "name": "stdout",
     "output_type": "stream",
     "text": [
      "foodtalkindia\n",
      "punjabi_food_factory\n",
      "ludhiana_foodiess\n",
      "foodrooaster\n",
      "food_founder_\n",
      "foodrush.recipe\n",
      "food\n",
      "hungryamdavadi\n",
      "bhopalfoodwalks\n",
      "food_lunatic\n",
      "eat.to.cheat\n",
      "food_mehkma\n",
      "kiasmran\n",
      "foodie_incarnate\n",
      "None\n",
      "foodiebliss09\n",
      "foodlover_lyf\n",
      "foodiesince96\n",
      "phorumpandya\n",
      "None\n",
      "foodiekanyatales\n",
      "foodbloggerai\n",
      "vegvillagefoodofficial\n",
      "dilsefoodie\n",
      "kolkatafoodie\n",
      "_s98_m_\n",
      "a_garnish_bowl_\n",
      "amritsarfoodie_\n",
      "foodate_sudhar\n",
      "indorefoodexplorer\n",
      "foodyvid\n",
      "foodpandits\n",
      "thespicesof.life_\n",
      "food.india93\n",
      "pranksterchandigarh\n",
      "delishdirection\n",
      "garimaspridefood\n",
      "thebhukkadblog\n",
      "None\n",
      "foodbabyny\n",
      "meghnasfoodmagic\n",
      "thefooddiggerr\n",
      "food_feels\n",
      "None\n",
      "foodiewe\n",
      "None\n",
      "food_gasmic_famous\n",
      "thefoodbabe\n",
      "None\n",
      "None\n",
      "street_food_chandigarh\n",
      "food_cravings27\n",
      "None\n",
      "paris.explore\n",
      "foodblowen\n",
      "food_junkie2312\n"
     ]
    }
   ],
   "source": [
    "for name in names :\n",
    "    print(name)"
   ]
  },
  {
   "cell_type": "code",
   "execution_count": 12,
   "id": "b8d0ee4c",
   "metadata": {},
   "outputs": [],
   "source": [
    "def search_and_open_a_profile(profile_name) :\n",
    "    ## returning to main page\n",
    "    instagram_link = 'https://www.instagram.com/'\n",
    "    driver.get(instagram_link)\n",
    "    time.sleep(2)\n",
    "    ## waiting explicitly till the search_box appears\n",
    "    \n",
    "    wait = WebDriverWait(driver, 10)\n",
    "\n",
    "    search_btn = wait.until(EC.presence_of_element_located((By.PARTIAL_LINK_TEXT, 'Search')))\n",
    "    search_btn.click()\n",
    "    time.sleep(1)\n",
    "    search_box = driver.find_element(By.TAG_NAME, 'input')\n",
    "    time.sleep(1)\n",
    "    ## sending text to search box\n",
    "    search_box.send_keys(profile_name)\n",
    "    \n",
    "    time.sleep(2)\n",
    "    ## Getting the element which contains the link of first search result\n",
    "    search_result_list = driver.find_element(By.XPATH, '//div[starts-with(@class, \"x9f619 x78zum5 xdt5ytf x12dtdjy x6ikm8r x1odjw0f x4uap5 x18d9i69 xkhd6sd xh8yej3 x1iyjqo2 xocp1fn\")]')\n",
    "    search_result_list_html = BeautifulSoup(search_result_list.get_attribute('outerHTML'), 'html.parser')\n",
    "    profile_link = search_result_list_html.find('a')\n",
    "    ## extracting url of profile link\n",
    "    profile_link = profile_link.get('href')\n",
    "    time.sleep(2)\n",
    "    profile_link = 'https://www.instagram.com' + profile_link\n",
    "    driver.get(profile_link)"
   ]
  },
  {
   "cell_type": "code",
   "execution_count": 13,
   "id": "33c0fb4f",
   "metadata": {},
   "outputs": [],
   "source": [
    "profile = 'soDelhi'\n",
    "search_and_open_a_profile(profile)"
   ]
  },
  {
   "cell_type": "code",
   "execution_count": 14,
   "id": "c026c9b0",
   "metadata": {},
   "outputs": [
    {
     "name": "stdout",
     "output_type": "stream",
     "text": [
      "https://www.instagram.com/sodelhi/\n"
     ]
    }
   ],
   "source": [
    "print(driver.current_url)"
   ]
  },
  {
   "cell_type": "code",
   "execution_count": 15,
   "id": "b10a4131",
   "metadata": {},
   "outputs": [],
   "source": [
    "def follow(profile) :\n",
    "    try :\n",
    "        search_and_open_a_profile(profile)\n",
    "    \n",
    "    except :\n",
    "        print(\"couldn't open a file\")\n",
    "    \n",
    "    try :\n",
    "        wait = WebDriverWait(driver, 10)\n",
    "        follow_button = wait.until(EC.presence_of_element_located((By.XPATH, '//button[starts-with(@class ,\"_acan _acap _acas _aj1-\")]')))\n",
    "        follow_button_text = driver.find_element(By.XPATH , '//button[starts-with(@class ,\"_acan _acap _acas _aj1-\")]/div/div').text\n",
    "        \n",
    "        if follow_button_text == 'Follow' :\n",
    "            follow_button.click()\n",
    "            print('Now Following !!! ')\n",
    "    \n",
    "    except :\n",
    "        print('Already Following !!! ')"
   ]
  },
  {
   "cell_type": "code",
   "execution_count": 16,
   "id": "e91cd770",
   "metadata": {},
   "outputs": [],
   "source": [
    "def unfollow(profile) :\n",
    "    try :\n",
    "        search_and_open_a_profile(profile)\n",
    "    \n",
    "    except :\n",
    "        print(\"couldn't open a file\")\n",
    "    \n",
    "    try :\n",
    "        wait = WebDriverWait(driver, 10)\n",
    "        unfollow_button = wait.until(EC.presence_of_element_located((By.XPATH , '//button[starts-with(@class , \"_acan _acap _acat _aj1-\")]')))\n",
    "        unfollow_button_text = driver.find_element(By.XPATH , '//button[starts-with@ , \"_acan _acap _acat _aj1-\"]/div/div').text\n",
    "        \n",
    "        if unfollow_button_text == 'Following' :\n",
    "            print('unfollowing now !!')\n",
    "            unfollow_button.click()\n",
    "            \n",
    "            unfollow_options = driver.find_element(By.XPATH , 'div[starts-with@class , \"x1i10hfl x1qjc9v5 xjbqb8w xjqpnuy xa49m3k xqeqjp1 x2hbi6w x13fuv20 xu3j5b3 x1q0q8m5 x26u7qi x972fbf xcfux6l x1qhh985 xm0m39n x9f619 x1ypdohk xdl72j9 x2lah0s xe8uvvx xdj266r x11i5rnm xat24cr x1mh8g0r x2lwn1j xeuugli xexx8yu x4uap5 x18d9i69 xkhd6sd x1n2onr6 x16tdsg8 x1hl2dhg xggy1nq x1ja2u2z x1t137rt x1q0g3np x87ps6o x1lku1pv x1a2a7pz x1dm5mii x16mil14 xiojian x1yutycm x1lliihq x193iq5w xh8yej3\"]')\n",
    "            unfollow_options[-1].click()\n",
    "    \n",
    "    except :\n",
    "        print('Already not following')"
   ]
  },
  {
   "cell_type": "code",
   "execution_count": 17,
   "id": "48e277d9",
   "metadata": {},
   "outputs": [
    {
     "name": "stdout",
     "output_type": "stream",
     "text": [
      "Now Following !!! \n"
     ]
    }
   ],
   "source": [
    "follow('sodelhi')"
   ]
  },
  {
   "cell_type": "code",
   "execution_count": 18,
   "id": "41d872f2",
   "metadata": {},
   "outputs": [
    {
     "name": "stdout",
     "output_type": "stream",
     "text": [
      "Already not following\n"
     ]
    }
   ],
   "source": [
    "unfollow('sodelhi')"
   ]
  },
  {
   "cell_type": "markdown",
   "id": "78e38c4b",
   "metadata": {},
   "source": [
    "## get all posts links"
   ]
  },
  {
   "cell_type": "code",
   "execution_count": 19,
   "id": "c6a37a3f",
   "metadata": {},
   "outputs": [],
   "source": [
    "def get_all_posts_links(profile_name) :\n",
    "    \n",
    "    try :\n",
    "        search_and_open_a_profile(profile_name)\n",
    "    \n",
    "    except :\n",
    "        print(\"couldn't open the file\")\n",
    "    time.sleep(5)\n",
    "    # getting the current height of the webpage\n",
    "    current_height = driver.execute_script(\"return document.body.scrollHeight ;\")\n",
    "    time.sleep(2)\n",
    "    while True :\n",
    "        driver.execute_script(\"window.scrollTo(0 , arguments[0]);\" , current_height)\n",
    "        time.sleep(3)\n",
    "        new_height = driver.execute_script(\"return document.body.scrollHeight ;\")\n",
    "        posts = driver.find_elements(By.XPATH , \"//article/div/div//a\")\n",
    "            \n",
    "        if len(posts) > 30 :\n",
    "            break\n",
    "        if new_height == current_height :\n",
    "            break\n",
    "        current_height = new_height\n",
    "        \n",
    "    if len(posts) > 30 :\n",
    "        posts = posts[0:30]\n",
    "        \n",
    "    return posts\n",
    "             "
   ]
  },
  {
   "cell_type": "code",
   "execution_count": 20,
   "id": "8b4c805f",
   "metadata": {},
   "outputs": [],
   "source": [
    "posts = get_all_posts_links(\"dilsefoodie\")"
   ]
  },
  {
   "cell_type": "code",
   "execution_count": 22,
   "id": "0d52ccf0",
   "metadata": {},
   "outputs": [
    {
     "data": {
      "text/plain": [
       "12"
      ]
     },
     "execution_count": 22,
     "metadata": {},
     "output_type": "execute_result"
    }
   ],
   "source": [
    "len(posts)"
   ]
  },
  {
   "cell_type": "code",
   "execution_count": 23,
   "id": "1e3e0aba",
   "metadata": {},
   "outputs": [],
   "source": [
    "for i in range(len(posts)):\n",
    "    posts[i] = posts[i].get_attribute('href')"
   ]
  },
  {
   "cell_type": "code",
   "execution_count": 24,
   "id": "f586aafc",
   "metadata": {},
   "outputs": [
    {
     "data": {
      "text/plain": [
       "['https://www.instagram.com/p/CuE6HvTIbGH/',\n",
       " 'https://www.instagram.com/p/CuESBx4IUEr/',\n",
       " 'https://www.instagram.com/p/CuB8NTOouxH/',\n",
       " 'https://www.instagram.com/p/CuBjXUGoBHf/',\n",
       " 'https://www.instagram.com/p/Ct_o2KPojyt/',\n",
       " 'https://www.instagram.com/p/Ct_axzIolu3/',\n",
       " 'https://www.instagram.com/p/Ct_J89Ro7aV/',\n",
       " 'https://www.instagram.com/p/Ct9LXBno9VC/',\n",
       " 'https://www.instagram.com/p/Ct8zLHxId03/',\n",
       " 'https://www.instagram.com/p/Ct8cvl7IChN/',\n",
       " 'https://www.instagram.com/p/Ct6zF9LKG1N/',\n",
       " 'https://www.instagram.com/p/Ct6EHTtIcM_/']"
      ]
     },
     "execution_count": 24,
     "metadata": {},
     "output_type": "execute_result"
    }
   ],
   "source": [
    "posts"
   ]
  },
  {
   "cell_type": "code",
   "execution_count": 90,
   "id": "c3bdb0f6",
   "metadata": {},
   "outputs": [],
   "source": []
  },
  {
   "cell_type": "code",
   "execution_count": 25,
   "id": "5f788e1c",
   "metadata": {},
   "outputs": [],
   "source": [
    "def like_posts(posts) :\n",
    "    i = 1\n",
    "    for post in posts :\n",
    "        driver.get(post)\n",
    "        time.sleep(1.5)\n",
    "        driver.execute_script('window.scrollBy(0, 1100)')\n",
    "        time.sleep(1)\n",
    "        wait = WebDriverWait(driver, 10)\n",
    "        ## finding the like button\n",
    "        like_element = wait.until(EC.presence_of_element_located((By.XPATH, \"//section[starts-with(@class, '_aamu _ae3_')]//span/div/div/span\")))\n",
    "        html_obj = BeautifulSoup(like_element.get_attribute('innerHTML'), 'html.parser')\n",
    "        like_status = html_obj.title.string\n",
    "        like_button = driver.find_element(By.XPATH, \"//div[@class = '_ae2s _ae3v _ae3w']/section[starts-with(@class, '_aamu _ae3_ _ae47 _ae48')]/span/div\")\n",
    "        if like_status == 'Unlike' :\n",
    "            \n",
    "            print(i ,\"Post has already been liked\")\n",
    "        else :\n",
    "            like_button.click()\n",
    "        i += 1"
   ]
  },
  {
   "cell_type": "code",
   "execution_count": 26,
   "id": "58c5004b",
   "metadata": {},
   "outputs": [],
   "source": [
    "like_posts(posts)"
   ]
  },
  {
   "cell_type": "code",
   "execution_count": 27,
   "id": "4953bc7a",
   "metadata": {},
   "outputs": [
    {
     "name": "stdout",
     "output_type": "stream",
     "text": [
      "1 Post has already been liked\n",
      "2 Post has already been liked\n",
      "3 Post has already been liked\n",
      "4 Post has already been liked\n",
      "5 Post has already been liked\n",
      "6 Post has already been liked\n",
      "7 Post has already been liked\n",
      "8 Post has already been liked\n",
      "9 Post has already been liked\n",
      "10 Post has already been liked\n",
      "11 Post has already been liked\n",
      "12 Post has already been liked\n"
     ]
    }
   ],
   "source": [
    "like_posts(posts)"
   ]
  },
  {
   "cell_type": "code",
   "execution_count": 28,
   "id": "4d63cfc7",
   "metadata": {},
   "outputs": [],
   "source": [
    "def unlike_posts(posts) :\n",
    "    i = 1\n",
    "    for post in posts :\n",
    "        driver.get(post)\n",
    "        time.sleep(1.5)\n",
    "        driver.execute_script('window.scrollBy(0, 1100)')\n",
    "        time.sleep(1)\n",
    "        wait = WebDriverWait(driver, 10)\n",
    "        ## finding the like button\n",
    "        like_element = wait.until(EC.presence_of_element_located((By.XPATH, \"//section[starts-with(@class, '_aamu _ae3_')]//span/div/div/span\")))\n",
    "        html_obj = BeautifulSoup(like_element.get_attribute('innerHTML'), 'html.parser')\n",
    "        like_status = html_obj.title.string\n",
    "        like_button = driver.find_element(By.XPATH, \"//div[@class = '_ae2s _ae3v _ae3w']/section[starts-with(@class, '_aamu _ae3_ _ae47 _ae48')]/span/div\")\n",
    "        if like_status == 'Like' :\n",
    "            \n",
    "            print(i,\"Post has already been liked\")\n",
    "        else :\n",
    "            like_button.click()\n",
    "        i += 1"
   ]
  },
  {
   "cell_type": "code",
   "execution_count": 29,
   "id": "45edf165",
   "metadata": {},
   "outputs": [],
   "source": [
    "unlike_posts(posts)"
   ]
  },
  {
   "cell_type": "code",
   "execution_count": 30,
   "id": "221a2939",
   "metadata": {},
   "outputs": [
    {
     "name": "stdout",
     "output_type": "stream",
     "text": [
      "1 Post has already been liked\n",
      "2 Post has already been liked\n",
      "3 Post has already been liked\n",
      "4 Post has already been liked\n",
      "5 Post has already been liked\n",
      "6 Post has already been liked\n",
      "7 Post has already been liked\n",
      "8 Post has already been liked\n",
      "9 Post has already been liked\n",
      "10 Post has already been liked\n",
      "11 Post has already been liked\n",
      "12 Post has already been liked\n"
     ]
    }
   ],
   "source": [
    "unlike_posts(posts)"
   ]
  },
  {
   "cell_type": "markdown",
   "id": "66c8dd3e",
   "metadata": {},
   "source": [
    "## 6.1 - Extract the usernames of the first 500 followers of ‘foodtalkindia’ and ‘sodelhi’."
   ]
  },
  {
   "cell_type": "code",
   "execution_count": 52,
   "id": "0b2bc107",
   "metadata": {},
   "outputs": [],
   "source": [
    "def get_followers(profile_name) :\n",
    "    try :\n",
    "        search_and_open_a_profile(profile_name)\n",
    "    except :\n",
    "        print(\"Couldn't Open the Profile\")\n",
    "    try :\n",
    "        time.sleep(1)\n",
    "        wait = WebDriverWait(driver, 10) \n",
    "        followers = wait.until(EC.presence_of_element_located((By.PARTIAL_LINK_TEXT, 'followers')))\n",
    "        followers.click()\n",
    "        followers_list_container = wait.until(EC.presence_of_element_located((By.XPATH, \"//div[starts-with(@class, 'x7r02ix xf1ldfh x131esax xdajt7p xxfnqb6 xb88tzc xw2csxc x1odjw0f x5fp0pe')]//div[starts-with(@class, '_aano')]\")))\n",
    "        current_height = driver.execute_script(\"return document.querySelector('._aano').scrollHeight;\")\n",
    "        time.sleep(2)\n",
    "        ## scrolling till the page has atleast 1000 followers or all followers\n",
    "        while True :\n",
    "            driver.execute_script('arguments[0].scrollTop = arguments[0].scrollHeight', followers_list_container)\n",
    "            time.sleep(1)\n",
    "            new_height = driver.execute_script(\"return document.querySelector('._aano').scrollHeight;\")\n",
    "            followers_list = driver.find_elements(By.XPATH, \"//div[starts-with(@class, 'x7r02ix xf1ldfh x131esax xdajt7p xxfnqb6 xb88tzc xw2csxc x1odjw0f x5fp0pe')]//div[starts-with(@class, '_aano')]//a\")\n",
    "            if len(followers_list) >= 1000 :\n",
    "                break\n",
    "            if current_height == new_height :\n",
    "                break\n",
    "            current_height = new_height\n",
    "        if not (len(followers_list) >= 500) :\n",
    "            print('This Account has restricted the view of all followers !!!\\nBut here are some of them : ')\n",
    "        get_usernames(followers_list)\n",
    "        followers_list = list(set(followers_list))\n",
    "        if len(followers_list) >= 500 :\n",
    "            followers_list = followers_list[0 : 500]\n",
    "        for i in range(len(followers_list)) :\n",
    "            print(str(i + 1)+'.',followers_list[i])\n",
    "    except :\n",
    "        print('!!!')"
   ]
  },
  {
   "cell_type": "code",
   "execution_count": 53,
   "id": "9e7bd002",
   "metadata": {},
   "outputs": [],
   "source": [
    "def get_usernames(followers_list) :\n",
    "    for i in range(len(followers_list)) :\n",
    "        usernames = followers_list[i].get_attribute('href').split('/')[-2]\n",
    "        followers_list[i] = usernames"
   ]
  },
  {
   "cell_type": "code",
   "execution_count": 56,
   "id": "134eca81",
   "metadata": {},
   "outputs": [
    {
     "name": "stdout",
     "output_type": "stream",
     "text": [
      "This Account has restricted the view of all followers !!!\n",
      "But here are some of them : \n",
      "1. akib_malik_2199\n",
      "2. _hridayy\n",
      "3. amodhroy02\n",
      "4. ajmal_pilakandy\n",
      "5. adi_kulkarni\n",
      "6. watzxxup\n",
      "7. abhishek2424\n",
      "8. _atthul\n",
      "9. hardwork_spirit__soul\n",
      "10. pocket_dynamyte\n"
     ]
    }
   ],
   "source": [
    "get_followers(\"foodtalkindia\")"
   ]
  }
 ],
 "metadata": {
  "kernelspec": {
   "display_name": "Python 3 (ipykernel)",
   "language": "python",
   "name": "python3"
  },
  "language_info": {
   "codemirror_mode": {
    "name": "ipython",
    "version": 3
   },
   "file_extension": ".py",
   "mimetype": "text/x-python",
   "name": "python",
   "nbconvert_exporter": "python",
   "pygments_lexer": "ipython3",
   "version": "3.9.13"
  }
 },
 "nbformat": 4,
 "nbformat_minor": 5
}
